{
 "cells": [
  {
   "cell_type": "code",
   "execution_count": 46,
   "metadata": {},
   "outputs": [],
   "source": [
    "import pandas as pd\n",
    "import numpy as np\n",
    "import matplotlib.pyplot as pl\n",
    "import math"
   ]
  },
  {
   "cell_type": "code",
   "execution_count": 47,
   "metadata": {},
   "outputs": [],
   "source": [
    "dataframe=pd.read_csv('signals.csv')                               #reading the csv file and storing it in a dataframe of Pandas."
   ]
  },
  {
   "cell_type": "code",
   "execution_count": 48,
   "metadata": {},
   "outputs": [
    {
     "data": {
      "text/plain": [
       "<matplotlib.legend.Legend at 0x1b6fc84d520>"
      ]
     },
     "execution_count": 48,
     "metadata": {},
     "output_type": "execute_result"
    },
    {
     "data": {
      "image/png": "[encoded data removed]",
      "text/plain": [
       "<Figure size 432x288 with 1 Axes>"
      ]
     },
     "metadata": {
      "needs_background": "light"
     },
     "output_type": "display_data"
    }
   ],
   "source": [
    "pl.plot(dataframe['n'],dataframe['x[n]'],'.',label='x [n]')\n",
    "pl.plot(dataframe['n'],dataframe['y[n]'],'.',label='y [n]')\n",
    "pl.legend(loc='lower left')"
   ]
  },
  {
   "cell_type": "code",
   "execution_count": 49,
   "metadata": {},
   "outputs": [
    {
     "data": {
      "text/html": [
       "<div>\n",
       "<style scoped>\n",
       "    .dataframe tbody tr th:only-of-type {\n",
       "        vertical-align: middle;\n",
       "    }\n",
       "\n",
       "    .dataframe tbody tr th {\n",
       "        vertical-align: top;\n",
       "    }\n",
       "\n",
       "    .dataframe thead th {\n",
       "        text-align: right;\n",
       "    }\n",
       "</style>\n",
       "<table border=\"1\" class=\"dataframe\">\n",
       "  <thead>\n",
       "    <tr style=\"text-align: right;\">\n",
       "      <th></th>\n",
       "      <th>x[n]</th>\n",
       "      <th>y[n]</th>\n",
       "      <th>n</th>\n",
       "    </tr>\n",
       "  </thead>\n",
       "  <tbody>\n",
       "    <tr>\n",
       "      <th>0</th>\n",
       "      <td>35.4312</td>\n",
       "      <td>33.3735</td>\n",
       "      <td>0</td>\n",
       "    </tr>\n",
       "    <tr>\n",
       "      <th>1</th>\n",
       "      <td>35.1511</td>\n",
       "      <td>34.3744</td>\n",
       "      <td>1</td>\n",
       "    </tr>\n",
       "    <tr>\n",
       "      <th>2</th>\n",
       "      <td>34.8284</td>\n",
       "      <td>35.7514</td>\n",
       "      <td>2</td>\n",
       "    </tr>\n",
       "    <tr>\n",
       "      <th>3</th>\n",
       "      <td>34.4656</td>\n",
       "      <td>35.5869</td>\n",
       "      <td>3</td>\n",
       "    </tr>\n",
       "    <tr>\n",
       "      <th>4</th>\n",
       "      <td>34.0656</td>\n",
       "      <td>36.0826</td>\n",
       "      <td>4</td>\n",
       "    </tr>\n",
       "    <tr>\n",
       "      <th>...</th>\n",
       "      <td>...</td>\n",
       "      <td>...</td>\n",
       "      <td>...</td>\n",
       "    </tr>\n",
       "    <tr>\n",
       "      <th>188</th>\n",
       "      <td>31.4198</td>\n",
       "      <td>33.5967</td>\n",
       "      <td>188</td>\n",
       "    </tr>\n",
       "    <tr>\n",
       "      <th>189</th>\n",
       "      <td>31.7396</td>\n",
       "      <td>31.7135</td>\n",
       "      <td>189</td>\n",
       "    </tr>\n",
       "    <tr>\n",
       "      <th>190</th>\n",
       "      <td>32.0228</td>\n",
       "      <td>32.6819</td>\n",
       "      <td>190</td>\n",
       "    </tr>\n",
       "    <tr>\n",
       "      <th>191</th>\n",
       "      <td>32.2673</td>\n",
       "      <td>30.9260</td>\n",
       "      <td>191</td>\n",
       "    </tr>\n",
       "    <tr>\n",
       "      <th>192</th>\n",
       "      <td>32.4714</td>\n",
       "      <td>34.7257</td>\n",
       "      <td>192</td>\n",
       "    </tr>\n",
       "  </tbody>\n",
       "</table>\n",
       "<p>193 rows × 3 columns</p>\n",
       "</div>"
      ],
      "text/plain": [
       "        x[n]     y[n]    n\n",
       "0    35.4312  33.3735    0\n",
       "1    35.1511  34.3744    1\n",
       "2    34.8284  35.7514    2\n",
       "3    34.4656  35.5869    3\n",
       "4    34.0656  36.0826    4\n",
       "..       ...      ...  ...\n",
       "188  31.4198  33.5967  188\n",
       "189  31.7396  31.7135  189\n",
       "190  32.0228  32.6819  190\n",
       "191  32.2673  30.9260  191\n",
       "192  32.4714  34.7257  192\n",
       "\n",
       "[193 rows x 3 columns]"
      ]
     },
     "execution_count": 49,
     "metadata": {},
     "output_type": "execute_result"
    }
   ],
   "source": [
    "dataframe"
   ]
  },
  {
   "cell_type": "code",
   "execution_count": 50,
   "metadata": {},
   "outputs": [],
   "source": [
    "Hk=[]\n",
    "w=(2*math.pi)/193                                              \n",
    "for k in range(5):                                             #calculating fourier transform of h\n",
    "    Hk.append(((1/8)*math.cos(2*w*k)+(1/2)*math.cos(k*w)+(3/8)))"
   ]
  },
  {
   "cell_type": "markdown",
   "metadata": {},
   "source": [
    "During calulating fouriers of h and yn, we are only taking 5 values of k..if we will take 193 values the at then it will create problem as Hk will be tending to 0.. which will affect Xjw..so for convenience we took k=5. we can increse value of k to 60,70 but that is not affecting our final result."
   ]
  },
  {
   "cell_type": "code",
   "execution_count": 51,
   "metadata": {},
   "outputs": [],
   "source": [
    "dataframe.loc[range(5),'H(k)']=Hk"
   ]
  },
  {
   "cell_type": "code",
   "execution_count": 52,
   "metadata": {},
   "outputs": [],
   "source": [
    "def rotate(number, radians):\n",
    "    n = number\n",
    "    return (math.e**(radians*1j)) * n"
   ]
  },
  {
   "cell_type": "code",
   "execution_count": 53,
   "metadata": {},
   "outputs": [],
   "source": [
    "yn=dataframe['y[n]'].to_numpy()"
   ]
  },
  {
   "cell_type": "code",
   "execution_count": 54,
   "metadata": {},
   "outputs": [],
   "source": [
    "Yk=[]\n",
    "a=(2*math.pi)/193\n",
    "for k in range(5):                                     #calculating fourier transform of yn\n",
    "    sum=0\n",
    "    for n in range(193):\n",
    "        sum=sum+rotate(yn[n],-(n*a*k))\n",
    "    Yk.append(sum)"
   ]
  },
  {
   "cell_type": "code",
   "execution_count": 55,
   "metadata": {},
   "outputs": [],
   "source": [
    "dataframe.loc[range(5),'Y(k)']=Yk"
   ]
  },
  {
   "cell_type": "code",
   "execution_count": 56,
   "metadata": {},
   "outputs": [],
   "source": [
    "Xjw=np.array(Yk)/np.array(Hk)"
   ]
  },
  {
   "cell_type": "code",
   "execution_count": 57,
   "metadata": {},
   "outputs": [],
   "source": [
    "deblurred_yn=[]\n",
    "for n in range(193):\n",
    "    sum=0\n",
    "    for k in range(5):\n",
    "        sum=sum+rotate(Xjw[k],k*a*n)\n",
    "    deblurred_yn.append(sum/193)"
   ]
  },
  {
   "cell_type": "code",
   "execution_count": 58,
   "metadata": {},
   "outputs": [],
   "source": [
    "dataframe.loc[:,'Deblurred y[n]']=deblurred_yn"
   ]
  },
  {
   "cell_type": "code",
   "execution_count": 59,
   "metadata": {},
   "outputs": [
    {
     "data": {
      "text/html": [
       "<div>\n",
       "<style scoped>\n",
       "    .dataframe tbody tr th:only-of-type {\n",
       "        vertical-align: middle;\n",
       "    }\n",
       "\n",
       "    .dataframe tbody tr th {\n",
       "        vertical-align: top;\n",
       "    }\n",
       "\n",
       "    .dataframe thead th {\n",
       "        text-align: right;\n",
       "    }\n",
       "</style>\n",
       "<table border=\"1\" class=\"dataframe\">\n",
       "  <thead>\n",
       "    <tr style=\"text-align: right;\">\n",
       "      <th></th>\n",
       "      <th>x[n]</th>\n",
       "      <th>y[n]</th>\n",
       "      <th>n</th>\n",
       "      <th>H(k)</th>\n",
       "      <th>Y(k)</th>\n",
       "      <th>Deblurred y[n]</th>\n",
       "    </tr>\n",
       "  </thead>\n",
       "  <tbody>\n",
       "    <tr>\n",
       "      <th>0</th>\n",
       "      <td>35.4312</td>\n",
       "      <td>33.3735</td>\n",
       "      <td>0</td>\n",
       "      <td>1.000000</td>\n",
       "      <td>4914.894005+0.000000j</td>\n",
       "      <td>29.374611-2.012663j</td>\n",
       "    </tr>\n",
       "    <tr>\n",
       "      <th>1</th>\n",
       "      <td>35.1511</td>\n",
       "      <td>34.3744</td>\n",
       "      <td>1</td>\n",
       "      <td>0.999470</td>\n",
       "      <td>-9.613725-0435.2152460j</td>\n",
       "      <td>29.373716-1.702454j</td>\n",
       "    </tr>\n",
       "    <tr>\n",
       "      <th>2</th>\n",
       "      <td>34.8284</td>\n",
       "      <td>35.7514</td>\n",
       "      <td>2</td>\n",
       "      <td>0.997882</td>\n",
       "      <td>584.349625-306.374626j</td>\n",
       "      <td>29.345838-1.399907j</td>\n",
       "    </tr>\n",
       "    <tr>\n",
       "      <th>3</th>\n",
       "      <td>34.4656</td>\n",
       "      <td>35.5869</td>\n",
       "      <td>3</td>\n",
       "      <td>0.995240</td>\n",
       "      <td>18.814657+440.812213j</td>\n",
       "      <td>29.292028-1.107662j</td>\n",
       "    </tr>\n",
       "    <tr>\n",
       "      <th>4</th>\n",
       "      <td>34.0656</td>\n",
       "      <td>36.0826</td>\n",
       "      <td>4</td>\n",
       "      <td>0.991551</td>\n",
       "      <td>158.182020-88.142548j</td>\n",
       "      <td>29.213626-0.828243j</td>\n",
       "    </tr>\n",
       "    <tr>\n",
       "      <th>...</th>\n",
       "      <td>...</td>\n",
       "      <td>...</td>\n",
       "      <td>...</td>\n",
       "      <td>...</td>\n",
       "      <td>...</td>\n",
       "      <td>...</td>\n",
       "    </tr>\n",
       "    <tr>\n",
       "      <th>188</th>\n",
       "      <td>31.4198</td>\n",
       "      <td>33.5967</td>\n",
       "      <td>188</td>\n",
       "      <td>NaN</td>\n",
       "      <td>N0000000000a0000000000N</td>\n",
       "      <td>28.958434-3.582547j</td>\n",
       "    </tr>\n",
       "    <tr>\n",
       "      <th>189</th>\n",
       "      <td>31.7396</td>\n",
       "      <td>31.7135</td>\n",
       "      <td>189</td>\n",
       "      <td>NaN</td>\n",
       "      <td>N0000000000a0000000000N</td>\n",
       "      <td>29.097790-3.275229j</td>\n",
       "    </tr>\n",
       "    <tr>\n",
       "      <th>190</th>\n",
       "      <td>32.0228</td>\n",
       "      <td>32.6819</td>\n",
       "      <td>190</td>\n",
       "      <td>NaN</td>\n",
       "      <td>N0000000000a0000000000N</td>\n",
       "      <td>29.209367-2.961860j</td>\n",
       "    </tr>\n",
       "    <tr>\n",
       "      <th>191</th>\n",
       "      <td>32.2673</td>\n",
       "      <td>30.9260</td>\n",
       "      <td>191</td>\n",
       "      <td>NaN</td>\n",
       "      <td>N0000000000a0000000000N</td>\n",
       "      <td>29.292741-2.645137j</td>\n",
       "    </tr>\n",
       "    <tr>\n",
       "      <th>192</th>\n",
       "      <td>32.4714</td>\n",
       "      <td>34.7257</td>\n",
       "      <td>192</td>\n",
       "      <td>NaN</td>\n",
       "      <td>N0000000000a0000000000N</td>\n",
       "      <td>29.347771-2.327813j</td>\n",
       "    </tr>\n",
       "  </tbody>\n",
       "</table>\n",
       "<p>193 rows × 6 columns</p>\n",
       "</div>"
      ],
      "text/plain": [
       "        x[n]     y[n]    n      H(k)                    Y(k)  \\\n",
       "0    35.4312  33.3735    0  1.000000   4914.894005+0.000000j   \n",
       "1    35.1511  34.3744    1  0.999470 -9.613725-0435.2152460j   \n",
       "2    34.8284  35.7514    2  0.997882  584.349625-306.374626j   \n",
       "3    34.4656  35.5869    3  0.995240   18.814657+440.812213j   \n",
       "4    34.0656  36.0826    4  0.991551   158.182020-88.142548j   \n",
       "..       ...      ...  ...       ...                     ...   \n",
       "188  31.4198  33.5967  188       NaN N0000000000a0000000000N   \n",
       "189  31.7396  31.7135  189       NaN N0000000000a0000000000N   \n",
       "190  32.0228  32.6819  190       NaN N0000000000a0000000000N   \n",
       "191  32.2673  30.9260  191       NaN N0000000000a0000000000N   \n",
       "192  32.4714  34.7257  192       NaN N0000000000a0000000000N   \n",
       "\n",
       "          Deblurred y[n]  \n",
       "0    29.374611-2.012663j  \n",
       "1    29.373716-1.702454j  \n",
       "2    29.345838-1.399907j  \n",
       "3    29.292028-1.107662j  \n",
       "4    29.213626-0.828243j  \n",
       "..                   ...  \n",
       "188  28.958434-3.582547j  \n",
       "189  29.097790-3.275229j  \n",
       "190  29.209367-2.961860j  \n",
       "191  29.292741-2.645137j  \n",
       "192  29.347771-2.327813j  \n",
       "\n",
       "[193 rows x 6 columns]"
      ]
     },
     "execution_count": 59,
     "metadata": {},
     "output_type": "execute_result"
    }
   ],
   "source": [
    "dataframe"
   ]
  },
  {
   "cell_type": "code",
   "execution_count": 60,
   "metadata": {},
   "outputs": [
    {
     "name": "stderr",
     "output_type": "stream",
     "text": [
      "C:\\Users\\priya\\AppData\\Local\\Programs\\Python\\Python39\\lib\\site-packages\\numpy\\core\\_asarray.py:83: ComplexWarning: Casting complex values to real discards the imaginary part\n",
      "  return array(a, dtype, copy=False, order=order)\n"
     ]
    },
    {
     "data": {
      "text/plain": [
       "[<matplotlib.lines.Line2D at 0x1b6fc886040>]"
      ]
     },
     "execution_count": 60,
     "metadata": {},
     "output_type": "execute_result"
    },
    {
     "data": {
      "image/png": "[encoded data removed]",
      "text/plain": [
       "<Figure size 432x288 with 1 Axes>"
      ]
     },
     "metadata": {
      "needs_background": "light"
     },
     "output_type": "display_data"
    }
   ],
   "source": [
    "\n",
    "pl.plot(dataframe['n'],dataframe['Deblurred y[n]'],'.')"
   ]
  },
  {
   "cell_type": "code",
   "execution_count": 61,
   "metadata": {},
   "outputs": [],
   "source": [
    "n=len(deblurred_yn)\n",
    "xn2=[]                                \n",
    "for i in range(n):                               # we are now denoising the deblurred_yn \n",
    "    if i==0:\n",
    "        xn2.append((deblurred_yn[0]+deblurred_yn[1])/2)\n",
    "    elif i==n-1:\n",
    "        xn2.append((deblurred_yn[n-2]+deblurred_yn[n-1])/2)\n",
    "    else:\n",
    "        xn2.append((deblurred_yn[i-1]+deblurred_yn[i]+deblurred_yn[i+1])/3)"
   ]
  },
  {
   "cell_type": "code",
   "execution_count": 62,
   "metadata": {},
   "outputs": [],
   "source": [
    "dataframe.loc[:,'x[n]2']=xn2                        # xn2 is obtained after deblurring and then denoising yn"
   ]
  },
  {
   "cell_type": "code",
   "execution_count": 63,
   "metadata": {},
   "outputs": [
    {
     "data": {
      "text/html": [
       "<div>\n",
       "<style scoped>\n",
       "    .dataframe tbody tr th:only-of-type {\n",
       "        vertical-align: middle;\n",
       "    }\n",
       "\n",
       "    .dataframe tbody tr th {\n",
       "        vertical-align: top;\n",
       "    }\n",
       "\n",
       "    .dataframe thead th {\n",
       "        text-align: right;\n",
       "    }\n",
       "</style>\n",
       "<table border=\"1\" class=\"dataframe\">\n",
       "  <thead>\n",
       "    <tr style=\"text-align: right;\">\n",
       "      <th></th>\n",
       "      <th>x[n]</th>\n",
       "      <th>y[n]</th>\n",
       "      <th>n</th>\n",
       "      <th>H(k)</th>\n",
       "      <th>Y(k)</th>\n",
       "      <th>Deblurred y[n]</th>\n",
       "      <th>x[n]2</th>\n",
       "    </tr>\n",
       "  </thead>\n",
       "  <tbody>\n",
       "    <tr>\n",
       "      <th>0</th>\n",
       "      <td>35.4312</td>\n",
       "      <td>33.3735</td>\n",
       "      <td>0</td>\n",
       "      <td>1.000000</td>\n",
       "      <td>4914.894005+0.000000j</td>\n",
       "      <td>29.374611-2.012663j</td>\n",
       "      <td>29.374164-1.857559j</td>\n",
       "    </tr>\n",
       "    <tr>\n",
       "      <th>1</th>\n",
       "      <td>35.1511</td>\n",
       "      <td>34.3744</td>\n",
       "      <td>1</td>\n",
       "      <td>0.999470</td>\n",
       "      <td>-9.613725-0435.2152460j</td>\n",
       "      <td>29.373716-1.702454j</td>\n",
       "      <td>29.364722-1.705008j</td>\n",
       "    </tr>\n",
       "    <tr>\n",
       "      <th>2</th>\n",
       "      <td>34.8284</td>\n",
       "      <td>35.7514</td>\n",
       "      <td>2</td>\n",
       "      <td>0.997882</td>\n",
       "      <td>584.349625-306.374626j</td>\n",
       "      <td>29.345838-1.399907j</td>\n",
       "      <td>29.337194-1.403341j</td>\n",
       "    </tr>\n",
       "    <tr>\n",
       "      <th>3</th>\n",
       "      <td>34.4656</td>\n",
       "      <td>35.5869</td>\n",
       "      <td>3</td>\n",
       "      <td>0.995240</td>\n",
       "      <td>18.814657+440.812213j</td>\n",
       "      <td>29.292028-1.107662j</td>\n",
       "      <td>29.283831-1.111938j</td>\n",
       "    </tr>\n",
       "    <tr>\n",
       "      <th>4</th>\n",
       "      <td>34.0656</td>\n",
       "      <td>36.0826</td>\n",
       "      <td>4</td>\n",
       "      <td>0.991551</td>\n",
       "      <td>158.182020-88.142548j</td>\n",
       "      <td>29.213626-0.828243j</td>\n",
       "      <td>29.205968-0.833310j</td>\n",
       "    </tr>\n",
       "    <tr>\n",
       "      <th>...</th>\n",
       "      <td>...</td>\n",
       "      <td>...</td>\n",
       "      <td>...</td>\n",
       "      <td>...</td>\n",
       "      <td>...</td>\n",
       "      <td>...</td>\n",
       "      <td>...</td>\n",
       "    </tr>\n",
       "    <tr>\n",
       "      <th>188</th>\n",
       "      <td>31.4198</td>\n",
       "      <td>33.5967</td>\n",
       "      <td>188</td>\n",
       "      <td>NaN</td>\n",
       "      <td>N0000000000a0000000000N</td>\n",
       "      <td>28.958434-3.582547j</td>\n",
       "      <td>28.949408-3.579661j</td>\n",
       "    </tr>\n",
       "    <tr>\n",
       "      <th>189</th>\n",
       "      <td>31.7396</td>\n",
       "      <td>31.7135</td>\n",
       "      <td>189</td>\n",
       "      <td>NaN</td>\n",
       "      <td>N0000000000a0000000000N</td>\n",
       "      <td>29.097790-3.275229j</td>\n",
       "      <td>29.088530-3.273212j</td>\n",
       "    </tr>\n",
       "    <tr>\n",
       "      <th>190</th>\n",
       "      <td>32.0228</td>\n",
       "      <td>32.6819</td>\n",
       "      <td>190</td>\n",
       "      <td>NaN</td>\n",
       "      <td>N0000000000a0000000000N</td>\n",
       "      <td>29.209367-2.961860j</td>\n",
       "      <td>29.199966-2.960742j</td>\n",
       "    </tr>\n",
       "    <tr>\n",
       "      <th>191</th>\n",
       "      <td>32.2673</td>\n",
       "      <td>30.9260</td>\n",
       "      <td>191</td>\n",
       "      <td>NaN</td>\n",
       "      <td>N0000000000a0000000000N</td>\n",
       "      <td>29.292741-2.645137j</td>\n",
       "      <td>29.283293-2.644937j</td>\n",
       "    </tr>\n",
       "    <tr>\n",
       "      <th>192</th>\n",
       "      <td>32.4714</td>\n",
       "      <td>34.7257</td>\n",
       "      <td>192</td>\n",
       "      <td>NaN</td>\n",
       "      <td>N0000000000a0000000000N</td>\n",
       "      <td>29.347771-2.327813j</td>\n",
       "      <td>29.320256-2.486475j</td>\n",
       "    </tr>\n",
       "  </tbody>\n",
       "</table>\n",
       "<p>193 rows × 7 columns</p>\n",
       "</div>"
      ],
      "text/plain": [
       "        x[n]     y[n]    n      H(k)                    Y(k)  \\\n",
       "0    35.4312  33.3735    0  1.000000   4914.894005+0.000000j   \n",
       "1    35.1511  34.3744    1  0.999470 -9.613725-0435.2152460j   \n",
       "2    34.8284  35.7514    2  0.997882  584.349625-306.374626j   \n",
       "3    34.4656  35.5869    3  0.995240   18.814657+440.812213j   \n",
       "4    34.0656  36.0826    4  0.991551   158.182020-88.142548j   \n",
       "..       ...      ...  ...       ...                     ...   \n",
       "188  31.4198  33.5967  188       NaN N0000000000a0000000000N   \n",
       "189  31.7396  31.7135  189       NaN N0000000000a0000000000N   \n",
       "190  32.0228  32.6819  190       NaN N0000000000a0000000000N   \n",
       "191  32.2673  30.9260  191       NaN N0000000000a0000000000N   \n",
       "192  32.4714  34.7257  192       NaN N0000000000a0000000000N   \n",
       "\n",
       "          Deblurred y[n]                x[n]2  \n",
       "0    29.374611-2.012663j  29.374164-1.857559j  \n",
       "1    29.373716-1.702454j  29.364722-1.705008j  \n",
       "2    29.345838-1.399907j  29.337194-1.403341j  \n",
       "3    29.292028-1.107662j  29.283831-1.111938j  \n",
       "4    29.213626-0.828243j  29.205968-0.833310j  \n",
       "..                   ...                  ...  \n",
       "188  28.958434-3.582547j  28.949408-3.579661j  \n",
       "189  29.097790-3.275229j  29.088530-3.273212j  \n",
       "190  29.209367-2.961860j  29.199966-2.960742j  \n",
       "191  29.292741-2.645137j  29.283293-2.644937j  \n",
       "192  29.347771-2.327813j  29.320256-2.486475j  \n",
       "\n",
       "[193 rows x 7 columns]"
      ]
     },
     "execution_count": 63,
     "metadata": {},
     "output_type": "execute_result"
    }
   ],
   "source": [
    "dataframe"
   ]
  },
  {
   "cell_type": "code",
   "execution_count": 64,
   "metadata": {},
   "outputs": [
    {
     "name": "stderr",
     "output_type": "stream",
     "text": [
      "C:\\Users\\priya\\AppData\\Local\\Programs\\Python\\Python39\\lib\\site-packages\\numpy\\core\\_asarray.py:83: ComplexWarning: Casting complex values to real discards the imaginary part\n",
      "  return array(a, dtype, copy=False, order=order)\n"
     ]
    },
    {
     "data": {
      "text/plain": [
       "<matplotlib.legend.Legend at 0x1b6fd9950a0>"
      ]
     },
     "execution_count": 64,
     "metadata": {},
     "output_type": "execute_result"
    },
    {
     "data": {
      "image/png": "[encoded data removed]",
      "text/plain": [
       "<Figure size 432x288 with 1 Axes>"
      ]
     },
     "metadata": {
      "needs_background": "light"
     },
     "output_type": "display_data"
    }
   ],
   "source": [
    "pl.plot(dataframe['n'],dataframe['x[n]'],'.',label='x [n]')\n",
    "pl.plot(dataframe['n'],dataframe['x[n]2'],'.',label='x [n]2')\n",
    "pl.legend(loc='lower left')"
   ]
  }
 ],
 "metadata": {
  "kernelspec": {
   "display_name": "Python 3.9.1 64-bit",
   "language": "python",
   "name": "python3"
  },
  "language_info": {
   "codemirror_mode": {
    "name": "ipython",
    "version": 3
   },
   "file_extension": ".py",
   "mimetype": "text/x-python",
   "name": "python",
   "nbconvert_exporter": "python",
   "pygments_lexer": "ipython3",
   "version": "3.9.1"
  },
  "orig_nbformat": 4,
  "vscode": {
   "interpreter": {
    "hash": "156b6e445808b07dc40aa5a8e66ccf91c9fbe531dfe1445bc12a4896e0fba728"
   }
  }
 },
 "nbformat": 4,
 "nbformat_minor": 2
}
