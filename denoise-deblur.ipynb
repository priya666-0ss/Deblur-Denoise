{
 "cells": [
  {
   "cell_type": "code",
   "execution_count": 120,
   "metadata": {},
   "outputs": [],
   "source": [
    "import pandas as pd\n",
    "import numpy as np\n",
    "import matplotlib.pyplot as pl\n",
    "import math"
   ]
  },
  {
   "cell_type": "code",
   "execution_count": 121,
   "metadata": {},
   "outputs": [],
   "source": [
    "dataframe=pd.read_csv('signals.csv')                      #reading the csv file and storing it in a dataframe of Pandas."
   ]
  },
  {
   "cell_type": "code",
   "execution_count": 122,
   "metadata": {},
   "outputs": [
    {
     "data": {
      "text/html": [
       "<div>\n",
       "<style scoped>\n",
       "    .dataframe tbody tr th:only-of-type {\n",
       "        vertical-align: middle;\n",
       "    }\n",
       "\n",
       "    .dataframe tbody tr th {\n",
       "        vertical-align: top;\n",
       "    }\n",
       "\n",
       "    .dataframe thead th {\n",
       "        text-align: right;\n",
       "    }\n",
       "</style>\n",
       "<table border=\"1\" class=\"dataframe\">\n",
       "  <thead>\n",
       "    <tr style=\"text-align: right;\">\n",
       "      <th></th>\n",
       "      <th>x[n]</th>\n",
       "      <th>y[n]</th>\n",
       "      <th>n</th>\n",
       "    </tr>\n",
       "  </thead>\n",
       "  <tbody>\n",
       "    <tr>\n",
       "      <th>0</th>\n",
       "      <td>35.4312</td>\n",
       "      <td>33.3735</td>\n",
       "      <td>0</td>\n",
       "    </tr>\n",
       "    <tr>\n",
       "      <th>1</th>\n",
       "      <td>35.1511</td>\n",
       "      <td>34.3744</td>\n",
       "      <td>1</td>\n",
       "    </tr>\n",
       "    <tr>\n",
       "      <th>2</th>\n",
       "      <td>34.8284</td>\n",
       "      <td>35.7514</td>\n",
       "      <td>2</td>\n",
       "    </tr>\n",
       "    <tr>\n",
       "      <th>3</th>\n",
       "      <td>34.4656</td>\n",
       "      <td>35.5869</td>\n",
       "      <td>3</td>\n",
       "    </tr>\n",
       "    <tr>\n",
       "      <th>4</th>\n",
       "      <td>34.0656</td>\n",
       "      <td>36.0826</td>\n",
       "      <td>4</td>\n",
       "    </tr>\n",
       "    <tr>\n",
       "      <th>...</th>\n",
       "      <td>...</td>\n",
       "      <td>...</td>\n",
       "      <td>...</td>\n",
       "    </tr>\n",
       "    <tr>\n",
       "      <th>188</th>\n",
       "      <td>31.4198</td>\n",
       "      <td>33.5967</td>\n",
       "      <td>188</td>\n",
       "    </tr>\n",
       "    <tr>\n",
       "      <th>189</th>\n",
       "      <td>31.7396</td>\n",
       "      <td>31.7135</td>\n",
       "      <td>189</td>\n",
       "    </tr>\n",
       "    <tr>\n",
       "      <th>190</th>\n",
       "      <td>32.0228</td>\n",
       "      <td>32.6819</td>\n",
       "      <td>190</td>\n",
       "    </tr>\n",
       "    <tr>\n",
       "      <th>191</th>\n",
       "      <td>32.2673</td>\n",
       "      <td>30.9260</td>\n",
       "      <td>191</td>\n",
       "    </tr>\n",
       "    <tr>\n",
       "      <th>192</th>\n",
       "      <td>32.4714</td>\n",
       "      <td>34.7257</td>\n",
       "      <td>192</td>\n",
       "    </tr>\n",
       "  </tbody>\n",
       "</table>\n",
       "<p>193 rows × 3 columns</p>\n",
       "</div>"
      ],
      "text/plain": [
       "        x[n]     y[n]    n\n",
       "0    35.4312  33.3735    0\n",
       "1    35.1511  34.3744    1\n",
       "2    34.8284  35.7514    2\n",
       "3    34.4656  35.5869    3\n",
       "4    34.0656  36.0826    4\n",
       "..       ...      ...  ...\n",
       "188  31.4198  33.5967  188\n",
       "189  31.7396  31.7135  189\n",
       "190  32.0228  32.6819  190\n",
       "191  32.2673  30.9260  191\n",
       "192  32.4714  34.7257  192\n",
       "\n",
       "[193 rows x 3 columns]"
      ]
     },
     "execution_count": 122,
     "metadata": {},
     "output_type": "execute_result"
    }
   ],
   "source": [
    "dataframe"
   ]
  },
  {
   "cell_type": "code",
   "execution_count": 123,
   "metadata": {},
   "outputs": [
    {
     "data": {
      "image/png": "[encoded data removed]",
      "text/plain": [
       "<Figure size 432x288 with 1 Axes>"
      ]
     },
     "metadata": {
      "needs_background": "light"
     },
     "output_type": "display_data"
    }
   ],
   "source": [
    "pl.plot(dataframe['n'],dataframe['x[n]'],'.')                       #plot x[n]\n",
    "pl.show()"
   ]
  },
  {
   "cell_type": "code",
   "execution_count": 124,
   "metadata": {},
   "outputs": [
    {
     "data": {
      "image/png": "[encoded data removed]",
      "text/plain": [
       "<Figure size 432x288 with 1 Axes>"
      ]
     },
     "metadata": {
      "needs_background": "light"
     },
     "output_type": "display_data"
    }
   ],
   "source": [
    "pl.plot(dataframe['n'],dataframe['y[n]'],'.')                        #plot y[n]\n",
    "pl.show()"
   ]
  },
  {
   "cell_type": "code",
   "execution_count": 125,
   "metadata": {},
   "outputs": [],
   "source": [
    "yn=dataframe['y[n]'].to_numpy()"
   ]
  },
  {
   "cell_type": "code",
   "execution_count": 126,
   "metadata": {},
   "outputs": [],
   "source": [
    "yn=list(yn)                                     #converting yn into list"
   ]
  },
  {
   "cell_type": "code",
   "execution_count": 127,
   "metadata": {},
   "outputs": [],
   "source": [
    "n=len(yn)\n",
    "denoised_yn=[]\n",
    "for i in range(n):                                        #applying averaging to convert yn into denoised yn...\n",
    "    if i==0:\n",
    "        denoised_yn.append((yn[0]+yn[1])/2)\n",
    "    elif i==n-1:\n",
    "        denoised_yn.append((yn[n-2]+yn[n-1])/2)\n",
    "    else:\n",
    "        denoised_yn.append((yn[i-1]+yn[i]+yn[i+1])/3)\n",
    "    \n",
    "\n"
   ]
  },
  {
   "cell_type": "code",
   "execution_count": 128,
   "metadata": {},
   "outputs": [],
   "source": [
    "\n",
    "dataframe.loc[:,'Denoised Yn']=denoised_yn"
   ]
  },
  {
   "cell_type": "code",
   "execution_count": 129,
   "metadata": {},
   "outputs": [
    {
     "data": {
      "text/html": [
       "<div>\n",
       "<style scoped>\n",
       "    .dataframe tbody tr th:only-of-type {\n",
       "        vertical-align: middle;\n",
       "    }\n",
       "\n",
       "    .dataframe tbody tr th {\n",
       "        vertical-align: top;\n",
       "    }\n",
       "\n",
       "    .dataframe thead th {\n",
       "        text-align: right;\n",
       "    }\n",
       "</style>\n",
       "<table border=\"1\" class=\"dataframe\">\n",
       "  <thead>\n",
       "    <tr style=\"text-align: right;\">\n",
       "      <th></th>\n",
       "      <th>x[n]</th>\n",
       "      <th>y[n]</th>\n",
       "      <th>n</th>\n",
       "      <th>Denoised Yn</th>\n",
       "    </tr>\n",
       "  </thead>\n",
       "  <tbody>\n",
       "    <tr>\n",
       "      <th>0</th>\n",
       "      <td>35.4312</td>\n",
       "      <td>33.3735</td>\n",
       "      <td>0</td>\n",
       "      <td>33.873950</td>\n",
       "    </tr>\n",
       "    <tr>\n",
       "      <th>1</th>\n",
       "      <td>35.1511</td>\n",
       "      <td>34.3744</td>\n",
       "      <td>1</td>\n",
       "      <td>34.499767</td>\n",
       "    </tr>\n",
       "    <tr>\n",
       "      <th>2</th>\n",
       "      <td>34.8284</td>\n",
       "      <td>35.7514</td>\n",
       "      <td>2</td>\n",
       "      <td>35.237567</td>\n",
       "    </tr>\n",
       "    <tr>\n",
       "      <th>3</th>\n",
       "      <td>34.4656</td>\n",
       "      <td>35.5869</td>\n",
       "      <td>3</td>\n",
       "      <td>35.806967</td>\n",
       "    </tr>\n",
       "    <tr>\n",
       "      <th>4</th>\n",
       "      <td>34.0656</td>\n",
       "      <td>36.0826</td>\n",
       "      <td>4</td>\n",
       "      <td>34.524700</td>\n",
       "    </tr>\n",
       "    <tr>\n",
       "      <th>...</th>\n",
       "      <td>...</td>\n",
       "      <td>...</td>\n",
       "      <td>...</td>\n",
       "      <td>...</td>\n",
       "    </tr>\n",
       "    <tr>\n",
       "      <th>188</th>\n",
       "      <td>31.4198</td>\n",
       "      <td>33.5967</td>\n",
       "      <td>188</td>\n",
       "      <td>32.294867</td>\n",
       "    </tr>\n",
       "    <tr>\n",
       "      <th>189</th>\n",
       "      <td>31.7396</td>\n",
       "      <td>31.7135</td>\n",
       "      <td>189</td>\n",
       "      <td>32.664033</td>\n",
       "    </tr>\n",
       "    <tr>\n",
       "      <th>190</th>\n",
       "      <td>32.0228</td>\n",
       "      <td>32.6819</td>\n",
       "      <td>190</td>\n",
       "      <td>31.773800</td>\n",
       "    </tr>\n",
       "    <tr>\n",
       "      <th>191</th>\n",
       "      <td>32.2673</td>\n",
       "      <td>30.9260</td>\n",
       "      <td>191</td>\n",
       "      <td>32.777867</td>\n",
       "    </tr>\n",
       "    <tr>\n",
       "      <th>192</th>\n",
       "      <td>32.4714</td>\n",
       "      <td>34.7257</td>\n",
       "      <td>192</td>\n",
       "      <td>32.825850</td>\n",
       "    </tr>\n",
       "  </tbody>\n",
       "</table>\n",
       "<p>193 rows × 4 columns</p>\n",
       "</div>"
      ],
      "text/plain": [
       "        x[n]     y[n]    n  Denoised Yn\n",
       "0    35.4312  33.3735    0    33.873950\n",
       "1    35.1511  34.3744    1    34.499767\n",
       "2    34.8284  35.7514    2    35.237567\n",
       "3    34.4656  35.5869    3    35.806967\n",
       "4    34.0656  36.0826    4    34.524700\n",
       "..       ...      ...  ...          ...\n",
       "188  31.4198  33.5967  188    32.294867\n",
       "189  31.7396  31.7135  189    32.664033\n",
       "190  32.0228  32.6819  190    31.773800\n",
       "191  32.2673  30.9260  191    32.777867\n",
       "192  32.4714  34.7257  192    32.825850\n",
       "\n",
       "[193 rows x 4 columns]"
      ]
     },
     "execution_count": 129,
     "metadata": {},
     "output_type": "execute_result"
    }
   ],
   "source": [
    "dataframe"
   ]
  },
  {
   "cell_type": "code",
   "execution_count": 130,
   "metadata": {},
   "outputs": [
    {
     "data": {
      "text/plain": [
       "[<matplotlib.lines.Line2D at 0x1c2aa5be040>]"
      ]
     },
     "execution_count": 130,
     "metadata": {},
     "output_type": "execute_result"
    },
    {
     "data": {
      "image/png": "[encoded data removed]",
      "text/plain": [
       "<Figure size 432x288 with 1 Axes>"
      ]
     },
     "metadata": {
      "needs_background": "light"
     },
     "output_type": "display_data"
    }
   ],
   "source": [
    "pl.plot(dataframe['n'],dataframe['Denoised Yn'],'.')                             #plot denoised yn"
   ]
  },
  {
   "cell_type": "code",
   "execution_count": 131,
   "metadata": {},
   "outputs": [],
   "source": [
    "Hk=[]                                                              \n",
    "w=(2*math.pi)/193\n",
    "for k in range(5):                                                              # Calculating fourier transforn of h. \n",
    "    a=((1/8)*math.cos(2*w*k)+(1/2)*math.cos(k*w)+(3/8))\n",
    "    Hk.append(a)\n"
   ]
  },
  {
   "cell_type": "markdown",
   "metadata": {},
   "source": [
    "During calulating fouriers of h and denoided_yn, we are only taking 5 values of k..if we will take 193 values the at then it will create problem as Hk will be tending to 0.. which will affect Xjw..so for convenience we took k=5. we can increse value of k to 60,70 but that is not affecting our final result."
   ]
  },
  {
   "cell_type": "code",
   "execution_count": 132,
   "metadata": {},
   "outputs": [],
   "source": [
    "dataframe.loc[range(5),'H(k)']=Hk"
   ]
  },
  {
   "cell_type": "code",
   "execution_count": 133,
   "metadata": {},
   "outputs": [],
   "source": [
    "def euler(number, radians):                        #defining function for dealing with complex forms.. number=(magnitude of complex)  and  radians=(angle of complex number in radians)\n",
    "    n = number\n",
    "    return (math.e**(radians*1j)) * n\n"
   ]
  },
  {
   "cell_type": "code",
   "execution_count": 134,
   "metadata": {},
   "outputs": [],
   "source": [
    "Yk=[]\n",
    "a=(2*math.pi)/193\n",
    "for k in range(5):                                #calculating fourier of denoised yn.\n",
    "    sum=0\n",
    "    for n in range(193):\n",
    "        sum=sum+euler(denoised_yn[n],-(n*a*k))\n",
    "    Yk.append(sum)"
   ]
  },
  {
   "cell_type": "code",
   "execution_count": 135,
   "metadata": {},
   "outputs": [],
   "source": [
    "dataframe.loc[range(5),'Y(k)']=Yk"
   ]
  },
  {
   "cell_type": "code",
   "execution_count": 136,
   "metadata": {},
   "outputs": [
    {
     "data": {
      "text/html": [
       "<div>\n",
       "<style scoped>\n",
       "    .dataframe tbody tr th:only-of-type {\n",
       "        vertical-align: middle;\n",
       "    }\n",
       "\n",
       "    .dataframe tbody tr th {\n",
       "        vertical-align: top;\n",
       "    }\n",
       "\n",
       "    .dataframe thead th {\n",
       "        text-align: right;\n",
       "    }\n",
       "</style>\n",
       "<table border=\"1\" class=\"dataframe\">\n",
       "  <thead>\n",
       "    <tr style=\"text-align: right;\">\n",
       "      <th></th>\n",
       "      <th>x[n]</th>\n",
       "      <th>y[n]</th>\n",
       "      <th>n</th>\n",
       "      <th>Denoised Yn</th>\n",
       "      <th>H(k)</th>\n",
       "      <th>Y(k)</th>\n",
       "    </tr>\n",
       "  </thead>\n",
       "  <tbody>\n",
       "    <tr>\n",
       "      <th>0</th>\n",
       "      <td>35.4312</td>\n",
       "      <td>33.3735</td>\n",
       "      <td>0</td>\n",
       "      <td>33.873950</td>\n",
       "      <td>1.000000</td>\n",
       "      <td>4914.428033+0.000000j</td>\n",
       "    </tr>\n",
       "    <tr>\n",
       "      <th>1</th>\n",
       "      <td>35.1511</td>\n",
       "      <td>34.3744</td>\n",
       "      <td>1</td>\n",
       "      <td>34.499767</td>\n",
       "      <td>0.999470</td>\n",
       "      <td>-10.076699-435.067447j</td>\n",
       "    </tr>\n",
       "    <tr>\n",
       "      <th>2</th>\n",
       "      <td>34.8284</td>\n",
       "      <td>35.7514</td>\n",
       "      <td>2</td>\n",
       "      <td>35.237567</td>\n",
       "      <td>0.997882</td>\n",
       "      <td>583.058071-305.953708j</td>\n",
       "    </tr>\n",
       "    <tr>\n",
       "      <th>3</th>\n",
       "      <td>34.4656</td>\n",
       "      <td>35.5869</td>\n",
       "      <td>3</td>\n",
       "      <td>35.806967</td>\n",
       "      <td>0.995240</td>\n",
       "      <td>18.289286+439.393939j</td>\n",
       "    </tr>\n",
       "    <tr>\n",
       "      <th>4</th>\n",
       "      <td>34.0656</td>\n",
       "      <td>36.0826</td>\n",
       "      <td>4</td>\n",
       "      <td>34.524700</td>\n",
       "      <td>0.991551</td>\n",
       "      <td>156.824231-87.668727j</td>\n",
       "    </tr>\n",
       "    <tr>\n",
       "      <th>...</th>\n",
       "      <td>...</td>\n",
       "      <td>...</td>\n",
       "      <td>...</td>\n",
       "      <td>...</td>\n",
       "      <td>...</td>\n",
       "      <td>...</td>\n",
       "    </tr>\n",
       "    <tr>\n",
       "      <th>188</th>\n",
       "      <td>31.4198</td>\n",
       "      <td>33.5967</td>\n",
       "      <td>188</td>\n",
       "      <td>32.294867</td>\n",
       "      <td>NaN</td>\n",
       "      <td>N0000000000a0000000000N</td>\n",
       "    </tr>\n",
       "    <tr>\n",
       "      <th>189</th>\n",
       "      <td>31.7396</td>\n",
       "      <td>31.7135</td>\n",
       "      <td>189</td>\n",
       "      <td>32.664033</td>\n",
       "      <td>NaN</td>\n",
       "      <td>N0000000000a0000000000N</td>\n",
       "    </tr>\n",
       "    <tr>\n",
       "      <th>190</th>\n",
       "      <td>32.0228</td>\n",
       "      <td>32.6819</td>\n",
       "      <td>190</td>\n",
       "      <td>31.773800</td>\n",
       "      <td>NaN</td>\n",
       "      <td>N0000000000a0000000000N</td>\n",
       "    </tr>\n",
       "    <tr>\n",
       "      <th>191</th>\n",
       "      <td>32.2673</td>\n",
       "      <td>30.9260</td>\n",
       "      <td>191</td>\n",
       "      <td>32.777867</td>\n",
       "      <td>NaN</td>\n",
       "      <td>N0000000000a0000000000N</td>\n",
       "    </tr>\n",
       "    <tr>\n",
       "      <th>192</th>\n",
       "      <td>32.4714</td>\n",
       "      <td>34.7257</td>\n",
       "      <td>192</td>\n",
       "      <td>32.825850</td>\n",
       "      <td>NaN</td>\n",
       "      <td>N0000000000a0000000000N</td>\n",
       "    </tr>\n",
       "  </tbody>\n",
       "</table>\n",
       "<p>193 rows × 6 columns</p>\n",
       "</div>"
      ],
      "text/plain": [
       "        x[n]     y[n]    n  Denoised Yn      H(k)                    Y(k)\n",
       "0    35.4312  33.3735    0    33.873950  1.000000   4914.428033+0.000000j\n",
       "1    35.1511  34.3744    1    34.499767  0.999470  -10.076699-435.067447j\n",
       "2    34.8284  35.7514    2    35.237567  0.997882  583.058071-305.953708j\n",
       "3    34.4656  35.5869    3    35.806967  0.995240   18.289286+439.393939j\n",
       "4    34.0656  36.0826    4    34.524700  0.991551   156.824231-87.668727j\n",
       "..       ...      ...  ...          ...       ...                     ...\n",
       "188  31.4198  33.5967  188    32.294867       NaN N0000000000a0000000000N\n",
       "189  31.7396  31.7135  189    32.664033       NaN N0000000000a0000000000N\n",
       "190  32.0228  32.6819  190    31.773800       NaN N0000000000a0000000000N\n",
       "191  32.2673  30.9260  191    32.777867       NaN N0000000000a0000000000N\n",
       "192  32.4714  34.7257  192    32.825850       NaN N0000000000a0000000000N\n",
       "\n",
       "[193 rows x 6 columns]"
      ]
     },
     "execution_count": 136,
     "metadata": {},
     "output_type": "execute_result"
    }
   ],
   "source": [
    "dataframe.head(193)"
   ]
  },
  {
   "cell_type": "code",
   "execution_count": 137,
   "metadata": {},
   "outputs": [],
   "source": [
    "Xjw=np.array(Yk)/np.array(Hk)\n"
   ]
  },
  {
   "cell_type": "code",
   "execution_count": 138,
   "metadata": {},
   "outputs": [],
   "source": [
    "xn1=[]\n",
    "for n in range(193):                                   #calculating inverse fourier transform\n",
    "    sum=0\n",
    "    for k in range(5):\n",
    "        sum=sum+euler(Xjw[k],k*a*n)\n",
    "    xn1.append(sum/193)\n",
    "New_xn=np.array(xn1)"
   ]
  },
  {
   "cell_type": "code",
   "execution_count": 139,
   "metadata": {},
   "outputs": [],
   "source": [
    "dataframe.loc[:,'x[n]1']=xn1\n"
   ]
  },
  {
   "cell_type": "code",
   "execution_count": 140,
   "metadata": {},
   "outputs": [
    {
     "data": {
      "text/html": [
       "<div>\n",
       "<style scoped>\n",
       "    .dataframe tbody tr th:only-of-type {\n",
       "        vertical-align: middle;\n",
       "    }\n",
       "\n",
       "    .dataframe tbody tr th {\n",
       "        vertical-align: top;\n",
       "    }\n",
       "\n",
       "    .dataframe thead th {\n",
       "        text-align: right;\n",
       "    }\n",
       "</style>\n",
       "<table border=\"1\" class=\"dataframe\">\n",
       "  <thead>\n",
       "    <tr style=\"text-align: right;\">\n",
       "      <th></th>\n",
       "      <th>x[n]</th>\n",
       "      <th>y[n]</th>\n",
       "      <th>n</th>\n",
       "      <th>Denoised Yn</th>\n",
       "      <th>H(k)</th>\n",
       "      <th>Y(k)</th>\n",
       "      <th>x[n]1</th>\n",
       "    </tr>\n",
       "  </thead>\n",
       "  <tbody>\n",
       "    <tr>\n",
       "      <th>0</th>\n",
       "      <td>35.4312</td>\n",
       "      <td>33.3735</td>\n",
       "      <td>0</td>\n",
       "      <td>33.873950</td>\n",
       "      <td>1.000000</td>\n",
       "      <td>4914.428033+0.000000j</td>\n",
       "      <td>29.353258-2.014619j</td>\n",
       "    </tr>\n",
       "    <tr>\n",
       "      <th>1</th>\n",
       "      <td>35.1511</td>\n",
       "      <td>34.3744</td>\n",
       "      <td>1</td>\n",
       "      <td>34.499767</td>\n",
       "      <td>0.999470</td>\n",
       "      <td>-10.076699-435.067447j</td>\n",
       "      <td>29.352682-1.706103j</td>\n",
       "    </tr>\n",
       "    <tr>\n",
       "      <th>2</th>\n",
       "      <td>34.8284</td>\n",
       "      <td>35.7514</td>\n",
       "      <td>2</td>\n",
       "      <td>35.237567</td>\n",
       "      <td>0.997882</td>\n",
       "      <td>583.058071-305.953708j</td>\n",
       "      <td>29.325299-1.405211j</td>\n",
       "    </tr>\n",
       "    <tr>\n",
       "      <th>3</th>\n",
       "      <td>34.4656</td>\n",
       "      <td>35.5869</td>\n",
       "      <td>3</td>\n",
       "      <td>35.806967</td>\n",
       "      <td>0.995240</td>\n",
       "      <td>18.289286+439.393939j</td>\n",
       "      <td>29.272155-1.114563j</td>\n",
       "    </tr>\n",
       "    <tr>\n",
       "      <th>4</th>\n",
       "      <td>34.0656</td>\n",
       "      <td>36.0826</td>\n",
       "      <td>4</td>\n",
       "      <td>34.524700</td>\n",
       "      <td>0.991551</td>\n",
       "      <td>156.824231-87.668727j</td>\n",
       "      <td>29.194583-0.836663j</td>\n",
       "    </tr>\n",
       "    <tr>\n",
       "      <th>...</th>\n",
       "      <td>...</td>\n",
       "      <td>...</td>\n",
       "      <td>...</td>\n",
       "      <td>...</td>\n",
       "      <td>...</td>\n",
       "      <td>...</td>\n",
       "      <td>...</td>\n",
       "    </tr>\n",
       "    <tr>\n",
       "      <th>188</th>\n",
       "      <td>31.4198</td>\n",
       "      <td>33.5967</td>\n",
       "      <td>188</td>\n",
       "      <td>32.294867</td>\n",
       "      <td>NaN</td>\n",
       "      <td>N0000000000a0000000000N</td>\n",
       "      <td>28.938096-3.576155j</td>\n",
       "    </tr>\n",
       "    <tr>\n",
       "      <th>189</th>\n",
       "      <td>31.7396</td>\n",
       "      <td>31.7135</td>\n",
       "      <td>189</td>\n",
       "      <td>32.664033</td>\n",
       "      <td>NaN</td>\n",
       "      <td>N0000000000a0000000000N</td>\n",
       "      <td>29.076912-3.270426j</td>\n",
       "    </tr>\n",
       "    <tr>\n",
       "      <th>190</th>\n",
       "      <td>32.0228</td>\n",
       "      <td>32.6819</td>\n",
       "      <td>190</td>\n",
       "      <td>31.773800</td>\n",
       "      <td>NaN</td>\n",
       "      <td>N0000000000a0000000000N</td>\n",
       "      <td>29.188113-2.958706j</td>\n",
       "    </tr>\n",
       "    <tr>\n",
       "      <th>191</th>\n",
       "      <td>32.2673</td>\n",
       "      <td>30.9260</td>\n",
       "      <td>191</td>\n",
       "      <td>32.777867</td>\n",
       "      <td>NaN</td>\n",
       "      <td>N0000000000a0000000000N</td>\n",
       "      <td>29.271278-2.643672j</td>\n",
       "    </tr>\n",
       "    <tr>\n",
       "      <th>192</th>\n",
       "      <td>32.4714</td>\n",
       "      <td>34.7257</td>\n",
       "      <td>192</td>\n",
       "      <td>32.825850</td>\n",
       "      <td>NaN</td>\n",
       "      <td>N0000000000a0000000000N</td>\n",
       "      <td>29.326275-2.328057j</td>\n",
       "    </tr>\n",
       "  </tbody>\n",
       "</table>\n",
       "<p>193 rows × 7 columns</p>\n",
       "</div>"
      ],
      "text/plain": [
       "        x[n]     y[n]    n  Denoised Yn      H(k)                    Y(k)  \\\n",
       "0    35.4312  33.3735    0    33.873950  1.000000   4914.428033+0.000000j   \n",
       "1    35.1511  34.3744    1    34.499767  0.999470  -10.076699-435.067447j   \n",
       "2    34.8284  35.7514    2    35.237567  0.997882  583.058071-305.953708j   \n",
       "3    34.4656  35.5869    3    35.806967  0.995240   18.289286+439.393939j   \n",
       "4    34.0656  36.0826    4    34.524700  0.991551   156.824231-87.668727j   \n",
       "..       ...      ...  ...          ...       ...                     ...   \n",
       "188  31.4198  33.5967  188    32.294867       NaN N0000000000a0000000000N   \n",
       "189  31.7396  31.7135  189    32.664033       NaN N0000000000a0000000000N   \n",
       "190  32.0228  32.6819  190    31.773800       NaN N0000000000a0000000000N   \n",
       "191  32.2673  30.9260  191    32.777867       NaN N0000000000a0000000000N   \n",
       "192  32.4714  34.7257  192    32.825850       NaN N0000000000a0000000000N   \n",
       "\n",
       "                   x[n]1  \n",
       "0    29.353258-2.014619j  \n",
       "1    29.352682-1.706103j  \n",
       "2    29.325299-1.405211j  \n",
       "3    29.272155-1.114563j  \n",
       "4    29.194583-0.836663j  \n",
       "..                   ...  \n",
       "188  28.938096-3.576155j  \n",
       "189  29.076912-3.270426j  \n",
       "190  29.188113-2.958706j  \n",
       "191  29.271278-2.643672j  \n",
       "192  29.326275-2.328057j  \n",
       "\n",
       "[193 rows x 7 columns]"
      ]
     },
     "execution_count": 140,
     "metadata": {},
     "output_type": "execute_result"
    }
   ],
   "source": [
    "dataframe"
   ]
  },
  {
   "cell_type": "code",
   "execution_count": 141,
   "metadata": {},
   "outputs": [
    {
     "name": "stderr",
     "output_type": "stream",
     "text": [
      "C:\\Users\\priya\\AppData\\Local\\Programs\\Python\\Python39\\lib\\site-packages\\numpy\\core\\_asarray.py:83: ComplexWarning: Casting complex values to real discards the imaginary part\n",
      "  return array(a, dtype, copy=False, order=order)\n"
     ]
    },
    {
     "data": {
      "text/plain": [
       "<matplotlib.legend.Legend at 0x1c2aa6b67c0>"
      ]
     },
     "execution_count": 141,
     "metadata": {},
     "output_type": "execute_result"
    },
    {
     "data": {
      "image/png": "[encoded data removed]",
      "text/plain": [
       "<Figure size 432x288 with 1 Axes>"
      ]
     },
     "metadata": {
      "needs_background": "light"
     },
     "output_type": "display_data"
    }
   ],
   "source": [
    "pl.plot(dataframe['n'],dataframe['x[n]'],'.',label='x [n]')\n",
    "pl.plot(dataframe['n'],dataframe['x[n]1'],'.',label='x [n]1')\n",
    "pl.legend(loc='lower left')"
   ]
  }
 ],
 "metadata": {
  "kernelspec": {
   "display_name": "Python 3.9.1 64-bit",
   "language": "python",
   "name": "python3"
  },
  "language_info": {
   "codemirror_mode": {
    "name": "ipython",
    "version": 3
   },
   "file_extension": ".py",
   "mimetype": "text/x-python",
   "name": "python",
   "nbconvert_exporter": "python",
   "pygments_lexer": "ipython3",
   "version": "3.9.1"
  },
  "orig_nbformat": 4,
  "vscode": {
   "interpreter": {
    "hash": "156b6e445808b07dc40aa5a8e66ccf91c9fbe531dfe1445bc12a4896e0fba728"
   }
  }
 },
 "nbformat": 4,
 "nbformat_minor": 2
}
